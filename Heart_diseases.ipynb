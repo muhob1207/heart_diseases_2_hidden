{
 "cells": [
  {
   "cell_type": "code",
   "execution_count": 1,
   "metadata": {
    "id": "aZ0jbQZWMX-S"
   },
   "outputs": [],
   "source": [
    "import pandas as pd\n",
    "import numpy as np\n",
    "import matplotlib.pyplot as plt\n",
    "import seaborn as sns"
   ]
  },
  {
   "cell_type": "code",
   "execution_count": 3,
   "metadata": {
    "colab": {
     "base_uri": "https://localhost:8080/",
     "height": 483
    },
    "id": "wwI_96CqM1h5",
    "outputId": "4dc7ac61-6e6b-428e-f968-5194f957302f"
   },
   "outputs": [
    {
     "data": {
      "text/html": [
       "\n",
       "  <div id=\"df-e0c99540-0ee8-4fae-8164-c88256c40d2d\">\n",
       "    <div class=\"colab-df-container\">\n",
       "      <div>\n",
       "<style scoped>\n",
       "    .dataframe tbody tr th:only-of-type {\n",
       "        vertical-align: middle;\n",
       "    }\n",
       "\n",
       "    .dataframe tbody tr th {\n",
       "        vertical-align: top;\n",
       "    }\n",
       "\n",
       "    .dataframe thead th {\n",
       "        text-align: right;\n",
       "    }\n",
       "</style>\n",
       "<table border=\"1\" class=\"dataframe\">\n",
       "  <thead>\n",
       "    <tr style=\"text-align: right;\">\n",
       "      <th></th>\n",
       "      <th>age</th>\n",
       "      <th>sex</th>\n",
       "      <th>chest_pain_type</th>\n",
       "      <th>resting_blood_pressure</th>\n",
       "      <th>cholesterol</th>\n",
       "      <th>fasting_blood_sugar</th>\n",
       "      <th>rest_ecg</th>\n",
       "      <th>max_heart_rate_achieved</th>\n",
       "      <th>exercise_induced_angina</th>\n",
       "      <th>st_depression</th>\n",
       "      <th>st_slope</th>\n",
       "      <th>num_major_vessels</th>\n",
       "      <th>thalassemia</th>\n",
       "      <th>target</th>\n",
       "    </tr>\n",
       "  </thead>\n",
       "  <tbody>\n",
       "    <tr>\n",
       "      <th>0</th>\n",
       "      <td>63</td>\n",
       "      <td>1</td>\n",
       "      <td>3</td>\n",
       "      <td>145</td>\n",
       "      <td>233</td>\n",
       "      <td>1</td>\n",
       "      <td>0</td>\n",
       "      <td>150</td>\n",
       "      <td>0</td>\n",
       "      <td>2.3</td>\n",
       "      <td>0</td>\n",
       "      <td>0</td>\n",
       "      <td>1</td>\n",
       "      <td>1</td>\n",
       "    </tr>\n",
       "    <tr>\n",
       "      <th>1</th>\n",
       "      <td>37</td>\n",
       "      <td>1</td>\n",
       "      <td>2</td>\n",
       "      <td>130</td>\n",
       "      <td>250</td>\n",
       "      <td>0</td>\n",
       "      <td>1</td>\n",
       "      <td>187</td>\n",
       "      <td>0</td>\n",
       "      <td>3.5</td>\n",
       "      <td>0</td>\n",
       "      <td>0</td>\n",
       "      <td>2</td>\n",
       "      <td>1</td>\n",
       "    </tr>\n",
       "    <tr>\n",
       "      <th>2</th>\n",
       "      <td>41</td>\n",
       "      <td>0</td>\n",
       "      <td>1</td>\n",
       "      <td>130</td>\n",
       "      <td>204</td>\n",
       "      <td>0</td>\n",
       "      <td>0</td>\n",
       "      <td>172</td>\n",
       "      <td>0</td>\n",
       "      <td>1.4</td>\n",
       "      <td>2</td>\n",
       "      <td>0</td>\n",
       "      <td>2</td>\n",
       "      <td>1</td>\n",
       "    </tr>\n",
       "    <tr>\n",
       "      <th>3</th>\n",
       "      <td>56</td>\n",
       "      <td>1</td>\n",
       "      <td>1</td>\n",
       "      <td>120</td>\n",
       "      <td>236</td>\n",
       "      <td>0</td>\n",
       "      <td>1</td>\n",
       "      <td>178</td>\n",
       "      <td>0</td>\n",
       "      <td>0.8</td>\n",
       "      <td>2</td>\n",
       "      <td>0</td>\n",
       "      <td>2</td>\n",
       "      <td>1</td>\n",
       "    </tr>\n",
       "    <tr>\n",
       "      <th>4</th>\n",
       "      <td>57</td>\n",
       "      <td>0</td>\n",
       "      <td>0</td>\n",
       "      <td>120</td>\n",
       "      <td>354</td>\n",
       "      <td>0</td>\n",
       "      <td>1</td>\n",
       "      <td>163</td>\n",
       "      <td>1</td>\n",
       "      <td>0.6</td>\n",
       "      <td>2</td>\n",
       "      <td>0</td>\n",
       "      <td>2</td>\n",
       "      <td>1</td>\n",
       "    </tr>\n",
       "    <tr>\n",
       "      <th>...</th>\n",
       "      <td>...</td>\n",
       "      <td>...</td>\n",
       "      <td>...</td>\n",
       "      <td>...</td>\n",
       "      <td>...</td>\n",
       "      <td>...</td>\n",
       "      <td>...</td>\n",
       "      <td>...</td>\n",
       "      <td>...</td>\n",
       "      <td>...</td>\n",
       "      <td>...</td>\n",
       "      <td>...</td>\n",
       "      <td>...</td>\n",
       "      <td>...</td>\n",
       "    </tr>\n",
       "    <tr>\n",
       "      <th>298</th>\n",
       "      <td>57</td>\n",
       "      <td>0</td>\n",
       "      <td>0</td>\n",
       "      <td>140</td>\n",
       "      <td>241</td>\n",
       "      <td>0</td>\n",
       "      <td>1</td>\n",
       "      <td>123</td>\n",
       "      <td>1</td>\n",
       "      <td>0.2</td>\n",
       "      <td>1</td>\n",
       "      <td>0</td>\n",
       "      <td>3</td>\n",
       "      <td>0</td>\n",
       "    </tr>\n",
       "    <tr>\n",
       "      <th>299</th>\n",
       "      <td>45</td>\n",
       "      <td>1</td>\n",
       "      <td>3</td>\n",
       "      <td>110</td>\n",
       "      <td>264</td>\n",
       "      <td>0</td>\n",
       "      <td>1</td>\n",
       "      <td>132</td>\n",
       "      <td>0</td>\n",
       "      <td>1.2</td>\n",
       "      <td>1</td>\n",
       "      <td>0</td>\n",
       "      <td>3</td>\n",
       "      <td>0</td>\n",
       "    </tr>\n",
       "    <tr>\n",
       "      <th>300</th>\n",
       "      <td>68</td>\n",
       "      <td>1</td>\n",
       "      <td>0</td>\n",
       "      <td>144</td>\n",
       "      <td>193</td>\n",
       "      <td>1</td>\n",
       "      <td>1</td>\n",
       "      <td>141</td>\n",
       "      <td>0</td>\n",
       "      <td>3.4</td>\n",
       "      <td>1</td>\n",
       "      <td>2</td>\n",
       "      <td>3</td>\n",
       "      <td>0</td>\n",
       "    </tr>\n",
       "    <tr>\n",
       "      <th>301</th>\n",
       "      <td>57</td>\n",
       "      <td>1</td>\n",
       "      <td>0</td>\n",
       "      <td>130</td>\n",
       "      <td>131</td>\n",
       "      <td>0</td>\n",
       "      <td>1</td>\n",
       "      <td>115</td>\n",
       "      <td>1</td>\n",
       "      <td>1.2</td>\n",
       "      <td>1</td>\n",
       "      <td>1</td>\n",
       "      <td>3</td>\n",
       "      <td>0</td>\n",
       "    </tr>\n",
       "    <tr>\n",
       "      <th>302</th>\n",
       "      <td>57</td>\n",
       "      <td>0</td>\n",
       "      <td>1</td>\n",
       "      <td>130</td>\n",
       "      <td>236</td>\n",
       "      <td>0</td>\n",
       "      <td>0</td>\n",
       "      <td>174</td>\n",
       "      <td>0</td>\n",
       "      <td>0.0</td>\n",
       "      <td>1</td>\n",
       "      <td>1</td>\n",
       "      <td>2</td>\n",
       "      <td>0</td>\n",
       "    </tr>\n",
       "  </tbody>\n",
       "</table>\n",
       "<p>303 rows × 14 columns</p>\n",
       "</div>\n",
       "      <button class=\"colab-df-convert\" onclick=\"convertToInteractive('df-e0c99540-0ee8-4fae-8164-c88256c40d2d')\"\n",
       "              title=\"Convert this dataframe to an interactive table.\"\n",
       "              style=\"display:none;\">\n",
       "        \n",
       "  <svg xmlns=\"http://www.w3.org/2000/svg\" height=\"24px\"viewBox=\"0 0 24 24\"\n",
       "       width=\"24px\">\n",
       "    <path d=\"M0 0h24v24H0V0z\" fill=\"none\"/>\n",
       "    <path d=\"M18.56 5.44l.94 2.06.94-2.06 2.06-.94-2.06-.94-.94-2.06-.94 2.06-2.06.94zm-11 1L8.5 8.5l.94-2.06 2.06-.94-2.06-.94L8.5 2.5l-.94 2.06-2.06.94zm10 10l.94 2.06.94-2.06 2.06-.94-2.06-.94-.94-2.06-.94 2.06-2.06.94z\"/><path d=\"M17.41 7.96l-1.37-1.37c-.4-.4-.92-.59-1.43-.59-.52 0-1.04.2-1.43.59L10.3 9.45l-7.72 7.72c-.78.78-.78 2.05 0 2.83L4 21.41c.39.39.9.59 1.41.59.51 0 1.02-.2 1.41-.59l7.78-7.78 2.81-2.81c.8-.78.8-2.07 0-2.86zM5.41 20L4 18.59l7.72-7.72 1.47 1.35L5.41 20z\"/>\n",
       "  </svg>\n",
       "      </button>\n",
       "      \n",
       "  <style>\n",
       "    .colab-df-container {\n",
       "      display:flex;\n",
       "      flex-wrap:wrap;\n",
       "      gap: 12px;\n",
       "    }\n",
       "\n",
       "    .colab-df-convert {\n",
       "      background-color: #E8F0FE;\n",
       "      border: none;\n",
       "      border-radius: 50%;\n",
       "      cursor: pointer;\n",
       "      display: none;\n",
       "      fill: #1967D2;\n",
       "      height: 32px;\n",
       "      padding: 0 0 0 0;\n",
       "      width: 32px;\n",
       "    }\n",
       "\n",
       "    .colab-df-convert:hover {\n",
       "      background-color: #E2EBFA;\n",
       "      box-shadow: 0px 1px 2px rgba(60, 64, 67, 0.3), 0px 1px 3px 1px rgba(60, 64, 67, 0.15);\n",
       "      fill: #174EA6;\n",
       "    }\n",
       "\n",
       "    [theme=dark] .colab-df-convert {\n",
       "      background-color: #3B4455;\n",
       "      fill: #D2E3FC;\n",
       "    }\n",
       "\n",
       "    [theme=dark] .colab-df-convert:hover {\n",
       "      background-color: #434B5C;\n",
       "      box-shadow: 0px 1px 3px 1px rgba(0, 0, 0, 0.15);\n",
       "      filter: drop-shadow(0px 1px 2px rgba(0, 0, 0, 0.3));\n",
       "      fill: #FFFFFF;\n",
       "    }\n",
       "  </style>\n",
       "\n",
       "      <script>\n",
       "        const buttonEl =\n",
       "          document.querySelector('#df-e0c99540-0ee8-4fae-8164-c88256c40d2d button.colab-df-convert');\n",
       "        buttonEl.style.display =\n",
       "          google.colab.kernel.accessAllowed ? 'block' : 'none';\n",
       "\n",
       "        async function convertToInteractive(key) {\n",
       "          const element = document.querySelector('#df-e0c99540-0ee8-4fae-8164-c88256c40d2d');\n",
       "          const dataTable =\n",
       "            await google.colab.kernel.invokeFunction('convertToInteractive',\n",
       "                                                     [key], {});\n",
       "          if (!dataTable) return;\n",
       "\n",
       "          const docLinkHtml = 'Like what you see? Visit the ' +\n",
       "            '<a target=\"_blank\" href=https://colab.research.google.com/notebooks/data_table.ipynb>data table notebook</a>'\n",
       "            + ' to learn more about interactive tables.';\n",
       "          element.innerHTML = '';\n",
       "          dataTable['output_type'] = 'display_data';\n",
       "          await google.colab.output.renderOutput(dataTable, element);\n",
       "          const docLink = document.createElement('div');\n",
       "          docLink.innerHTML = docLinkHtml;\n",
       "          element.appendChild(docLink);\n",
       "        }\n",
       "      </script>\n",
       "    </div>\n",
       "  </div>\n",
       "  "
      ],
      "text/plain": [
       "     age  sex  chest_pain_type  resting_blood_pressure  cholesterol  \\\n",
       "0     63    1                3                     145          233   \n",
       "1     37    1                2                     130          250   \n",
       "2     41    0                1                     130          204   \n",
       "3     56    1                1                     120          236   \n",
       "4     57    0                0                     120          354   \n",
       "..   ...  ...              ...                     ...          ...   \n",
       "298   57    0                0                     140          241   \n",
       "299   45    1                3                     110          264   \n",
       "300   68    1                0                     144          193   \n",
       "301   57    1                0                     130          131   \n",
       "302   57    0                1                     130          236   \n",
       "\n",
       "     fasting_blood_sugar  rest_ecg  max_heart_rate_achieved  \\\n",
       "0                      1         0                      150   \n",
       "1                      0         1                      187   \n",
       "2                      0         0                      172   \n",
       "3                      0         1                      178   \n",
       "4                      0         1                      163   \n",
       "..                   ...       ...                      ...   \n",
       "298                    0         1                      123   \n",
       "299                    0         1                      132   \n",
       "300                    1         1                      141   \n",
       "301                    0         1                      115   \n",
       "302                    0         0                      174   \n",
       "\n",
       "     exercise_induced_angina  st_depression  st_slope  num_major_vessels  \\\n",
       "0                          0            2.3         0                  0   \n",
       "1                          0            3.5         0                  0   \n",
       "2                          0            1.4         2                  0   \n",
       "3                          0            0.8         2                  0   \n",
       "4                          1            0.6         2                  0   \n",
       "..                       ...            ...       ...                ...   \n",
       "298                        1            0.2         1                  0   \n",
       "299                        0            1.2         1                  0   \n",
       "300                        0            3.4         1                  2   \n",
       "301                        1            1.2         1                  1   \n",
       "302                        0            0.0         1                  1   \n",
       "\n",
       "     thalassemia  target  \n",
       "0              1       1  \n",
       "1              2       1  \n",
       "2              2       1  \n",
       "3              2       1  \n",
       "4              2       1  \n",
       "..           ...     ...  \n",
       "298            3       0  \n",
       "299            3       0  \n",
       "300            3       0  \n",
       "301            3       0  \n",
       "302            2       0  \n",
       "\n",
       "[303 rows x 14 columns]"
      ]
     },
     "execution_count": 3,
     "metadata": {},
     "output_type": "execute_result"
    }
   ],
   "source": [
    "df = pd.read_csv('/content/sample_data/heart_disease_dataset.csv',delimiter=';')\n",
    "df"
   ]
  },
  {
   "cell_type": "code",
   "execution_count": 4,
   "metadata": {
    "colab": {
     "base_uri": "https://localhost:8080/"
    },
    "id": "HLK9nwkYNMQE",
    "outputId": "bc3c2796-7008-4339-a839-3f39e0c80857"
   },
   "outputs": [
    {
     "name": "stdout",
     "output_type": "stream",
     "text": [
      "<class 'pandas.core.frame.DataFrame'>\n",
      "RangeIndex: 303 entries, 0 to 302\n",
      "Data columns (total 14 columns):\n",
      " #   Column                   Non-Null Count  Dtype  \n",
      "---  ------                   --------------  -----  \n",
      " 0   age                      303 non-null    int64  \n",
      " 1   sex                      303 non-null    int64  \n",
      " 2   chest_pain_type          303 non-null    int64  \n",
      " 3   resting_blood_pressure   303 non-null    int64  \n",
      " 4   cholesterol              303 non-null    int64  \n",
      " 5   fasting_blood_sugar      303 non-null    int64  \n",
      " 6   rest_ecg                 303 non-null    int64  \n",
      " 7   max_heart_rate_achieved  303 non-null    int64  \n",
      " 8   exercise_induced_angina  303 non-null    int64  \n",
      " 9   st_depression            303 non-null    float64\n",
      " 10  st_slope                 303 non-null    int64  \n",
      " 11  num_major_vessels        303 non-null    int64  \n",
      " 12  thalassemia              303 non-null    int64  \n",
      " 13  target                   303 non-null    int64  \n",
      "dtypes: float64(1), int64(13)\n",
      "memory usage: 33.3 KB\n"
     ]
    }
   ],
   "source": [
    "df.info()"
   ]
  },
  {
   "cell_type": "code",
   "execution_count": 5,
   "metadata": {
    "colab": {
     "base_uri": "https://localhost:8080/",
     "height": 361
    },
    "id": "amR2Ucp1NUtA",
    "outputId": "12eecb8d-caf1-47b1-b6bf-0392e266788a"
   },
   "outputs": [
    {
     "data": {
      "text/html": [
       "\n",
       "  <div id=\"df-91de312b-6775-435f-861c-c23fe9c86f7b\">\n",
       "    <div class=\"colab-df-container\">\n",
       "      <div>\n",
       "<style scoped>\n",
       "    .dataframe tbody tr th:only-of-type {\n",
       "        vertical-align: middle;\n",
       "    }\n",
       "\n",
       "    .dataframe tbody tr th {\n",
       "        vertical-align: top;\n",
       "    }\n",
       "\n",
       "    .dataframe thead th {\n",
       "        text-align: right;\n",
       "    }\n",
       "</style>\n",
       "<table border=\"1\" class=\"dataframe\">\n",
       "  <thead>\n",
       "    <tr style=\"text-align: right;\">\n",
       "      <th></th>\n",
       "      <th>age</th>\n",
       "      <th>sex</th>\n",
       "      <th>chest_pain_type</th>\n",
       "      <th>resting_blood_pressure</th>\n",
       "      <th>cholesterol</th>\n",
       "      <th>fasting_blood_sugar</th>\n",
       "      <th>rest_ecg</th>\n",
       "      <th>max_heart_rate_achieved</th>\n",
       "      <th>exercise_induced_angina</th>\n",
       "      <th>st_depression</th>\n",
       "      <th>st_slope</th>\n",
       "      <th>num_major_vessels</th>\n",
       "      <th>thalassemia</th>\n",
       "      <th>target</th>\n",
       "    </tr>\n",
       "  </thead>\n",
       "  <tbody>\n",
       "    <tr>\n",
       "      <th>count</th>\n",
       "      <td>303.000000</td>\n",
       "      <td>303.000000</td>\n",
       "      <td>303.000000</td>\n",
       "      <td>303.000000</td>\n",
       "      <td>303.000000</td>\n",
       "      <td>303.000000</td>\n",
       "      <td>303.000000</td>\n",
       "      <td>303.000000</td>\n",
       "      <td>303.000000</td>\n",
       "      <td>303.000000</td>\n",
       "      <td>303.000000</td>\n",
       "      <td>303.000000</td>\n",
       "      <td>303.000000</td>\n",
       "      <td>303.000000</td>\n",
       "    </tr>\n",
       "    <tr>\n",
       "      <th>mean</th>\n",
       "      <td>54.366337</td>\n",
       "      <td>0.683168</td>\n",
       "      <td>0.966997</td>\n",
       "      <td>131.623762</td>\n",
       "      <td>246.264026</td>\n",
       "      <td>0.148515</td>\n",
       "      <td>0.528053</td>\n",
       "      <td>149.646865</td>\n",
       "      <td>0.326733</td>\n",
       "      <td>1.039604</td>\n",
       "      <td>1.399340</td>\n",
       "      <td>0.729373</td>\n",
       "      <td>2.313531</td>\n",
       "      <td>0.544554</td>\n",
       "    </tr>\n",
       "    <tr>\n",
       "      <th>std</th>\n",
       "      <td>9.082101</td>\n",
       "      <td>0.466011</td>\n",
       "      <td>1.032052</td>\n",
       "      <td>17.538143</td>\n",
       "      <td>51.830751</td>\n",
       "      <td>0.356198</td>\n",
       "      <td>0.525860</td>\n",
       "      <td>22.905161</td>\n",
       "      <td>0.469794</td>\n",
       "      <td>1.161075</td>\n",
       "      <td>0.616226</td>\n",
       "      <td>1.022606</td>\n",
       "      <td>0.612277</td>\n",
       "      <td>0.498835</td>\n",
       "    </tr>\n",
       "    <tr>\n",
       "      <th>min</th>\n",
       "      <td>29.000000</td>\n",
       "      <td>0.000000</td>\n",
       "      <td>0.000000</td>\n",
       "      <td>94.000000</td>\n",
       "      <td>126.000000</td>\n",
       "      <td>0.000000</td>\n",
       "      <td>0.000000</td>\n",
       "      <td>71.000000</td>\n",
       "      <td>0.000000</td>\n",
       "      <td>0.000000</td>\n",
       "      <td>0.000000</td>\n",
       "      <td>0.000000</td>\n",
       "      <td>0.000000</td>\n",
       "      <td>0.000000</td>\n",
       "    </tr>\n",
       "    <tr>\n",
       "      <th>25%</th>\n",
       "      <td>47.500000</td>\n",
       "      <td>0.000000</td>\n",
       "      <td>0.000000</td>\n",
       "      <td>120.000000</td>\n",
       "      <td>211.000000</td>\n",
       "      <td>0.000000</td>\n",
       "      <td>0.000000</td>\n",
       "      <td>133.500000</td>\n",
       "      <td>0.000000</td>\n",
       "      <td>0.000000</td>\n",
       "      <td>1.000000</td>\n",
       "      <td>0.000000</td>\n",
       "      <td>2.000000</td>\n",
       "      <td>0.000000</td>\n",
       "    </tr>\n",
       "    <tr>\n",
       "      <th>50%</th>\n",
       "      <td>55.000000</td>\n",
       "      <td>1.000000</td>\n",
       "      <td>1.000000</td>\n",
       "      <td>130.000000</td>\n",
       "      <td>240.000000</td>\n",
       "      <td>0.000000</td>\n",
       "      <td>1.000000</td>\n",
       "      <td>153.000000</td>\n",
       "      <td>0.000000</td>\n",
       "      <td>0.800000</td>\n",
       "      <td>1.000000</td>\n",
       "      <td>0.000000</td>\n",
       "      <td>2.000000</td>\n",
       "      <td>1.000000</td>\n",
       "    </tr>\n",
       "    <tr>\n",
       "      <th>75%</th>\n",
       "      <td>61.000000</td>\n",
       "      <td>1.000000</td>\n",
       "      <td>2.000000</td>\n",
       "      <td>140.000000</td>\n",
       "      <td>274.500000</td>\n",
       "      <td>0.000000</td>\n",
       "      <td>1.000000</td>\n",
       "      <td>166.000000</td>\n",
       "      <td>1.000000</td>\n",
       "      <td>1.600000</td>\n",
       "      <td>2.000000</td>\n",
       "      <td>1.000000</td>\n",
       "      <td>3.000000</td>\n",
       "      <td>1.000000</td>\n",
       "    </tr>\n",
       "    <tr>\n",
       "      <th>max</th>\n",
       "      <td>77.000000</td>\n",
       "      <td>1.000000</td>\n",
       "      <td>3.000000</td>\n",
       "      <td>200.000000</td>\n",
       "      <td>564.000000</td>\n",
       "      <td>1.000000</td>\n",
       "      <td>2.000000</td>\n",
       "      <td>202.000000</td>\n",
       "      <td>1.000000</td>\n",
       "      <td>6.200000</td>\n",
       "      <td>2.000000</td>\n",
       "      <td>4.000000</td>\n",
       "      <td>3.000000</td>\n",
       "      <td>1.000000</td>\n",
       "    </tr>\n",
       "  </tbody>\n",
       "</table>\n",
       "</div>\n",
       "      <button class=\"colab-df-convert\" onclick=\"convertToInteractive('df-91de312b-6775-435f-861c-c23fe9c86f7b')\"\n",
       "              title=\"Convert this dataframe to an interactive table.\"\n",
       "              style=\"display:none;\">\n",
       "        \n",
       "  <svg xmlns=\"http://www.w3.org/2000/svg\" height=\"24px\"viewBox=\"0 0 24 24\"\n",
       "       width=\"24px\">\n",
       "    <path d=\"M0 0h24v24H0V0z\" fill=\"none\"/>\n",
       "    <path d=\"M18.56 5.44l.94 2.06.94-2.06 2.06-.94-2.06-.94-.94-2.06-.94 2.06-2.06.94zm-11 1L8.5 8.5l.94-2.06 2.06-.94-2.06-.94L8.5 2.5l-.94 2.06-2.06.94zm10 10l.94 2.06.94-2.06 2.06-.94-2.06-.94-.94-2.06-.94 2.06-2.06.94z\"/><path d=\"M17.41 7.96l-1.37-1.37c-.4-.4-.92-.59-1.43-.59-.52 0-1.04.2-1.43.59L10.3 9.45l-7.72 7.72c-.78.78-.78 2.05 0 2.83L4 21.41c.39.39.9.59 1.41.59.51 0 1.02-.2 1.41-.59l7.78-7.78 2.81-2.81c.8-.78.8-2.07 0-2.86zM5.41 20L4 18.59l7.72-7.72 1.47 1.35L5.41 20z\"/>\n",
       "  </svg>\n",
       "      </button>\n",
       "      \n",
       "  <style>\n",
       "    .colab-df-container {\n",
       "      display:flex;\n",
       "      flex-wrap:wrap;\n",
       "      gap: 12px;\n",
       "    }\n",
       "\n",
       "    .colab-df-convert {\n",
       "      background-color: #E8F0FE;\n",
       "      border: none;\n",
       "      border-radius: 50%;\n",
       "      cursor: pointer;\n",
       "      display: none;\n",
       "      fill: #1967D2;\n",
       "      height: 32px;\n",
       "      padding: 0 0 0 0;\n",
       "      width: 32px;\n",
       "    }\n",
       "\n",
       "    .colab-df-convert:hover {\n",
       "      background-color: #E2EBFA;\n",
       "      box-shadow: 0px 1px 2px rgba(60, 64, 67, 0.3), 0px 1px 3px 1px rgba(60, 64, 67, 0.15);\n",
       "      fill: #174EA6;\n",
       "    }\n",
       "\n",
       "    [theme=dark] .colab-df-convert {\n",
       "      background-color: #3B4455;\n",
       "      fill: #D2E3FC;\n",
       "    }\n",
       "\n",
       "    [theme=dark] .colab-df-convert:hover {\n",
       "      background-color: #434B5C;\n",
       "      box-shadow: 0px 1px 3px 1px rgba(0, 0, 0, 0.15);\n",
       "      filter: drop-shadow(0px 1px 2px rgba(0, 0, 0, 0.3));\n",
       "      fill: #FFFFFF;\n",
       "    }\n",
       "  </style>\n",
       "\n",
       "      <script>\n",
       "        const buttonEl =\n",
       "          document.querySelector('#df-91de312b-6775-435f-861c-c23fe9c86f7b button.colab-df-convert');\n",
       "        buttonEl.style.display =\n",
       "          google.colab.kernel.accessAllowed ? 'block' : 'none';\n",
       "\n",
       "        async function convertToInteractive(key) {\n",
       "          const element = document.querySelector('#df-91de312b-6775-435f-861c-c23fe9c86f7b');\n",
       "          const dataTable =\n",
       "            await google.colab.kernel.invokeFunction('convertToInteractive',\n",
       "                                                     [key], {});\n",
       "          if (!dataTable) return;\n",
       "\n",
       "          const docLinkHtml = 'Like what you see? Visit the ' +\n",
       "            '<a target=\"_blank\" href=https://colab.research.google.com/notebooks/data_table.ipynb>data table notebook</a>'\n",
       "            + ' to learn more about interactive tables.';\n",
       "          element.innerHTML = '';\n",
       "          dataTable['output_type'] = 'display_data';\n",
       "          await google.colab.output.renderOutput(dataTable, element);\n",
       "          const docLink = document.createElement('div');\n",
       "          docLink.innerHTML = docLinkHtml;\n",
       "          element.appendChild(docLink);\n",
       "        }\n",
       "      </script>\n",
       "    </div>\n",
       "  </div>\n",
       "  "
      ],
      "text/plain": [
       "              age         sex  chest_pain_type  resting_blood_pressure  \\\n",
       "count  303.000000  303.000000       303.000000              303.000000   \n",
       "mean    54.366337    0.683168         0.966997              131.623762   \n",
       "std      9.082101    0.466011         1.032052               17.538143   \n",
       "min     29.000000    0.000000         0.000000               94.000000   \n",
       "25%     47.500000    0.000000         0.000000              120.000000   \n",
       "50%     55.000000    1.000000         1.000000              130.000000   \n",
       "75%     61.000000    1.000000         2.000000              140.000000   \n",
       "max     77.000000    1.000000         3.000000              200.000000   \n",
       "\n",
       "       cholesterol  fasting_blood_sugar    rest_ecg  max_heart_rate_achieved  \\\n",
       "count   303.000000           303.000000  303.000000               303.000000   \n",
       "mean    246.264026             0.148515    0.528053               149.646865   \n",
       "std      51.830751             0.356198    0.525860                22.905161   \n",
       "min     126.000000             0.000000    0.000000                71.000000   \n",
       "25%     211.000000             0.000000    0.000000               133.500000   \n",
       "50%     240.000000             0.000000    1.000000               153.000000   \n",
       "75%     274.500000             0.000000    1.000000               166.000000   \n",
       "max     564.000000             1.000000    2.000000               202.000000   \n",
       "\n",
       "       exercise_induced_angina  st_depression    st_slope  num_major_vessels  \\\n",
       "count               303.000000     303.000000  303.000000         303.000000   \n",
       "mean                  0.326733       1.039604    1.399340           0.729373   \n",
       "std                   0.469794       1.161075    0.616226           1.022606   \n",
       "min                   0.000000       0.000000    0.000000           0.000000   \n",
       "25%                   0.000000       0.000000    1.000000           0.000000   \n",
       "50%                   0.000000       0.800000    1.000000           0.000000   \n",
       "75%                   1.000000       1.600000    2.000000           1.000000   \n",
       "max                   1.000000       6.200000    2.000000           4.000000   \n",
       "\n",
       "       thalassemia      target  \n",
       "count   303.000000  303.000000  \n",
       "mean      2.313531    0.544554  \n",
       "std       0.612277    0.498835  \n",
       "min       0.000000    0.000000  \n",
       "25%       2.000000    0.000000  \n",
       "50%       2.000000    1.000000  \n",
       "75%       3.000000    1.000000  \n",
       "max       3.000000    1.000000  "
      ]
     },
     "execution_count": 5,
     "metadata": {},
     "output_type": "execute_result"
    }
   ],
   "source": [
    "df.describe()"
   ]
  },
  {
   "cell_type": "code",
   "execution_count": 6,
   "metadata": {
    "colab": {
     "base_uri": "https://localhost:8080/"
    },
    "id": "p1mSAb5fNWkl",
    "outputId": "fedcf55a-fdb9-4f71-c6b7-2bf32ea5832a"
   },
   "outputs": [
    {
     "data": {
      "text/plain": [
       "age                        0\n",
       "sex                        0\n",
       "chest_pain_type            0\n",
       "resting_blood_pressure     0\n",
       "cholesterol                0\n",
       "fasting_blood_sugar        0\n",
       "rest_ecg                   0\n",
       "max_heart_rate_achieved    0\n",
       "exercise_induced_angina    0\n",
       "st_depression              0\n",
       "st_slope                   0\n",
       "num_major_vessels          0\n",
       "thalassemia                0\n",
       "target                     0\n",
       "dtype: int64"
      ]
     },
     "execution_count": 6,
     "metadata": {},
     "output_type": "execute_result"
    }
   ],
   "source": [
    "#No null values\n",
    "df.isnull().sum()"
   ]
  },
  {
   "cell_type": "code",
   "execution_count": 7,
   "metadata": {
    "colab": {
     "base_uri": "https://localhost:8080/"
    },
    "id": "yQOc_gRGNZ14",
    "outputId": "00adcdde-48b8-4b06-f026-b1226e9e0969"
   },
   "outputs": [
    {
     "data": {
      "text/plain": [
       "1    165\n",
       "0    138\n",
       "Name: target, dtype: int64"
      ]
     },
     "execution_count": 7,
     "metadata": {},
     "output_type": "execute_result"
    }
   ],
   "source": [
    "#The label is balanced\n",
    "df['target'].value_counts()"
   ]
  },
  {
   "cell_type": "code",
   "execution_count": 8,
   "metadata": {
    "colab": {
     "base_uri": "https://localhost:8080/"
    },
    "id": "5q25ZYKpNoqF",
    "outputId": "1260abd3-b60e-46ff-e58d-b71d1d4327ff"
   },
   "outputs": [
    {
     "data": {
      "text/plain": [
       "False"
      ]
     },
     "execution_count": 8,
     "metadata": {},
     "output_type": "execute_result"
    }
   ],
   "source": [
    "#Data has duplicates\n",
    "len(df) == len(df.drop_duplicates())"
   ]
  },
  {
   "cell_type": "code",
   "execution_count": 9,
   "metadata": {
    "id": "oztKr1hCNwFJ"
   },
   "outputs": [],
   "source": [
    "#Dropping duplicates\n",
    "df = df.drop_duplicates()"
   ]
  },
  {
   "cell_type": "code",
   "execution_count": 10,
   "metadata": {
    "colab": {
     "base_uri": "https://localhost:8080/",
     "height": 405
    },
    "id": "YfynX-E-NzBq",
    "outputId": "453cb757-7003-49c9-d37b-6c46b81efa5a"
   },
   "outputs": [
    {
     "data": {
      "text/plain": [
       "<Axes: >"
      ]
     },
     "execution_count": 10,
     "metadata": {},
     "output_type": "execute_result"
    },
    {
     "data": {
      "image/png": "[encoded data removed]",
      "text/plain": [
       "<Figure size 432x288 with 2 Axes>"
      ]
     },
     "metadata": {
      "needs_background": "light"
     },
     "output_type": "display_data"
    }
   ],
   "source": [
    "#No multicolinearity observed\n",
    "sns.heatmap(df.corr())"
   ]
  },
  {
   "cell_type": "code",
   "execution_count": 11,
   "metadata": {
    "colab": {
     "base_uri": "https://localhost:8080/",
     "height": 441
    },
    "id": "1dYdGx81N1t7",
    "outputId": "cef3d0c0-60f4-4c0b-89ab-e6908020e640"
   },
   "outputs": [
    {
     "data": {
      "image/png": "[encoded data removed]",
      "text/plain": [
       "<Figure size 432x432 with 5 Axes>"
      ]
     },
     "metadata": {
      "needs_background": "light"
     },
     "output_type": "display_data"
    }
   ],
   "source": [
    "#Checking the outliers for numerical columns\n",
    "fig, axes = plt.subplots(nrows=5,figsize=(6,6))\n",
    "sns.boxplot(ax=axes[0],x=df['age'],data=df)\n",
    "sns.boxplot(ax=axes[1],x=df['resting_blood_pressure'],data=df)\n",
    "sns.boxplot(ax=axes[2],x=df['cholesterol'],data=df)\n",
    "sns.boxplot(ax=axes[3],x=df['max_heart_rate_achieved'],data=df)\n",
    "sns.boxplot(ax=axes[4],x=df['st_depression'],data=df)\n",
    "plt.tight_layout()"
   ]
  },
  {
   "cell_type": "code",
   "execution_count": 12,
   "metadata": {
    "id": "zX3dbSLdPCoO"
   },
   "outputs": [],
   "source": [
    "#Discarding outliers. \n",
    "columns = ['age','resting_blood_pressure','cholesterol','max_heart_rate_achieved','st_depression']\n",
    "\n",
    "lower_list = []\n",
    "upper_list = []\n",
    "\n",
    "for col in columns:\n",
    "    q1 = df[col].quantile(.25)\n",
    "    q3 = df[col].quantile(.75)\n",
    "    iqr = q3 - q1\n",
    "    lower = q1 - iqr*1.5\n",
    "    upper = q3 + iqr*1.5\n",
    "    lower_list.append(lower)\n",
    "    upper_list.append(upper)\n",
    "\n",
    "for lower,upper,col in zip(lower_list,upper_list,columns):\n",
    "    df = df[(df[col]>lower) & (df[col]<upper)].copy()"
   ]
  },
  {
   "cell_type": "code",
   "execution_count": 13,
   "metadata": {
    "colab": {
     "base_uri": "https://localhost:8080/",
     "height": 441
    },
    "id": "ytM0pC9mPEuC",
    "outputId": "a9aeb8d8-e87f-4a8c-b87a-50eb9a26fb94"
   },
   "outputs": [
    {
     "data": {
      "image/png": "[encoded data removed]",
      "text/plain": [
       "<Figure size 432x432 with 5 Axes>"
      ]
     },
     "metadata": {
      "needs_background": "light"
     },
     "output_type": "display_data"
    }
   ],
   "source": [
    "#Outliers have been removed\n",
    "fig, axes = plt.subplots(nrows=5,figsize=(6,6))\n",
    "sns.boxplot(ax=axes[0],x=df['age'],data=df)\n",
    "sns.boxplot(ax=axes[1],x=df['resting_blood_pressure'],data=df)\n",
    "sns.boxplot(ax=axes[2],x=df['cholesterol'],data=df)\n",
    "sns.boxplot(ax=axes[3],x=df['max_heart_rate_achieved'],data=df)\n",
    "sns.boxplot(ax=axes[4],x=df['st_depression'],data=df)\n",
    "plt.tight_layout()"
   ]
  },
  {
   "cell_type": "code",
   "execution_count": 14,
   "metadata": {
    "id": "Ncv3oRapPu3v"
   },
   "outputs": [],
   "source": [
    "from sklearn.model_selection import train_test_split\n",
    "from sklearn.preprocessing import MinMaxScaler"
   ]
  },
  {
   "cell_type": "code",
   "execution_count": 15,
   "metadata": {
    "id": "tbuDbfECQDMB"
   },
   "outputs": [],
   "source": [
    "#Splitting into features and labels\n",
    "X=df.iloc[:,:-1]\n",
    "y =df.iloc[:,-1]"
   ]
  },
  {
   "cell_type": "code",
   "execution_count": 16,
   "metadata": {
    "id": "cJo45hQYQRem"
   },
   "outputs": [],
   "source": [
    "#Doing the train-test split\n",
    "X_train, X_test, y_train, y_test  = train_test_split(X,y,\n",
    "                                                     test_size=0.2,\n",
    "                                                     random_state=42,\n",
    "                                                     shuffle=True\n",
    "                                                    )"
   ]
  },
  {
   "cell_type": "code",
   "execution_count": 17,
   "metadata": {
    "id": "hTptva_jQRzs"
   },
   "outputs": [],
   "source": [
    "#Scaling the data\n",
    "scaler = MinMaxScaler()\n",
    "X_train = scaler.fit_transform(X_train)\n",
    "X_test = scaler.transform(X_test)"
   ]
  },
  {
   "cell_type": "code",
   "execution_count": 18,
   "metadata": {
    "id": "xTVcBgvoIm3R"
   },
   "outputs": [],
   "source": [
    "#Converting y_train and y_test to numpy arrays\n",
    "y_train = np.array(y_train).reshape(len(y_train),1)\n",
    "y_test = np.array(y_test).reshape(len(y_test),1)"
   ]
  },
  {
   "cell_type": "markdown",
   "metadata": {
    "id": "IsJQX_ZLQ3QJ"
   },
   "source": [
    "# Creating Neural Network from scratch"
   ]
  },
  {
   "cell_type": "code",
   "execution_count": 22,
   "metadata": {
    "id": "Pk_vPJjmQ8-m"
   },
   "outputs": [],
   "source": [
    "def sigmoid(x):\n",
    "    return 1.0/(1+ np.exp(-x))\n",
    "\n",
    "def sigmoid_derivative(x):\n",
    "    return x * (1.0 - x)\n",
    "\n",
    "def relu(x):\n",
    "    return np.maximum(x, 0)\n",
    "\n",
    "def relu_derivative(x):\n",
    "    return np.where(x > 0, 1, 0)\n",
    "\n",
    "#We will use cross entropy loss because this is a classification problem\n",
    "def cross_entropy_loss(y_true, y_pred):\n",
    "    return np.sum(-(y_true*np.log(y_pred)+(1-y_true)*np.log(1-y_pred)))/len(y_true)\n",
    "\n",
    "def cross_entropy_derivative(y_true, y_pred):\n",
    "    return (y_pred - y_true) / (y_pred * (1 - y_pred))\n",
    "\n",
    "class NeuralNetwork:\n",
    "    def __init__(self, x, y):\n",
    "        #Defining the input\n",
    "        self.IN = x\n",
    "        #Defining the weights applied at the first hidden layer. This matrix has size 13X6, where 13 is the number of features and 6 is the number of neurons in the first hidden layer. \n",
    "        self.W1 = np.random.rand(self.IN.shape[1],6) \n",
    "        #Defining the weights applied at the second hidden layer. This matrix has shape 6X4, where 6 is the number of outputs from the first hidden layer and 4 is the number of neurons in the second hidden layer. \n",
    "        self.W2 = np.random.rand(6,4)\n",
    "        #Defining the weights applied at the output layer. It has shape 4X1, where 4 is the number of outputs of the second hidden layer and 1 corresponds to the output of the output layer. \n",
    "        self.W3 = np.random.rand(4,1)    \n",
    "        #Defining the biases for each layer:\n",
    "        self.b1 = np.random.rand(1,6)   \n",
    "        self.b2 = np.random.rand(1,4)  \n",
    "        self.b3 = np.random.rand(1,1)           \n",
    "        self.y = y\n",
    "        self.learning_rate = 0.01\n",
    "\n",
    "    def feed_forward(self):\n",
    "        #Getting the outputs of the first hidden layer. We will use relu as the activation function for the first layer\n",
    "        self.HIDDEN_LAYER_1 = relu(np.dot(self.IN, self.W1) + self.b1)\n",
    "\n",
    "        #Getting the outputs of the second hidden layer. We will use sigmoid as the activation function\n",
    "        self.HIDDEN_LAYER_2 = sigmoid(np.dot(self.HIDDEN_LAYER_1, self.W2) + self.b2)\n",
    "\n",
    "        #Finally getting the output. Using sigmoid as the activation function\n",
    "        self.output = sigmoid(np.dot(self.HIDDEN_LAYER_2, self.W3) + self.b3)\n",
    "\n",
    "    def back_propagate(self):\n",
    "        #We will now use the chain rule to update the weight matrices\n",
    "\n",
    "        #Finding the derivatives of the loss function by the weights applied at the output layer\n",
    "        d_W3 = np.dot(self.HIDDEN_LAYER_2.T, (cross_entropy_derivative(self.y, self.output) * sigmoid_derivative(self.output)))\n",
    "\n",
    "        #Finding the derivatives of the loss function by the weights applied at the second hidden layer\n",
    "        d_W2 = np.dot(self.HIDDEN_LAYER_1.T, (np.dot(cross_entropy_derivative(self.y, self.output) * sigmoid_derivative(self.output), self.W3.T) * sigmoid_derivative(self.HIDDEN_LAYER_2)))\n",
    "\n",
    "        #Finding the derivatives of the loss function by the weights applied at the first hidden layer\n",
    "        d_W1 = np.dot(self.IN.T, (np.dot((np.dot(cross_entropy_derivative(self.y, self.output) * sigmoid_derivative(self.output), self.W3.T) * sigmoid_derivative(self.HIDDEN_LAYER_2)), self.W2.T) * relu_derivative(np.dot(self.IN, self.W1) + self.b1)))\n",
    "\n",
    "        #Finding the derivatives of the loss function by the biases applied at the output layer\n",
    "        d_b3 = np.dot(np.ones(self.IN.shape[0]).reshape(1,self.IN.shape[0]), (cross_entropy_derivative(self.y, self.output) * sigmoid_derivative(self.output)))\n",
    "\n",
    "        #Finding the derivatives of the loss function by the biases applied at the second hidden layer\n",
    "        d_b2 = np.dot(np.ones(self.IN.shape[0]).reshape(1,self.IN.shape[0]), (np.dot(cross_entropy_derivative(self.y, self.output) * sigmoid_derivative(self.output), self.W3.T) * sigmoid_derivative(self.HIDDEN_LAYER_2)))\n",
    "\n",
    "        #Finding the derivatives of the loss function by the biases applied at the first hidden layer\n",
    "        d_b1 = np.dot(np.ones(self.IN.shape[0]).reshape(1,self.IN.shape[0]), (np.dot((np.dot(cross_entropy_derivative(self.y, self.output) * sigmoid_derivative(self.output), self.W3.T) * sigmoid_derivative(self.HIDDEN_LAYER_2)), self.W2.T) * relu_derivative(np.dot(self.IN, self.W1) + self.b1)))\n",
    "        \n",
    "\n",
    "        #Updating the weights and biases\n",
    "        self.W1 -= self.learning_rate*d_W1\n",
    "        self.W2 -= self.learning_rate*d_W2\n",
    "        self.W3 -= self.learning_rate*d_W3\n",
    "        self.b1 -= self.learning_rate*d_b1\n",
    "        self.b2 -= self.learning_rate*d_b2\n",
    "        self.b3 -= self.learning_rate*d_b3\n",
    "\n",
    "    def batch_splitter(self,features,labels,batch_size):\n",
    "        #Shuffling the data\n",
    "        shuffled_indices = np.random.permutation(features.shape[0]) \n",
    "        features = features[shuffled_indices]\n",
    "        labels = labels[shuffled_indices]\n",
    "\n",
    "      #Splitting into batches\n",
    "        batch = []\n",
    "        batches = []\n",
    "        batch_splits = []\n",
    "        num_of_batches = features.shape[0]//batch_size\n",
    "        num = 1\n",
    "        for i in range(1,num_of_batches+1):\n",
    "            batch_splits.append(i * batch_size)\n",
    "        for f,l in zip(features,labels):\n",
    "            batch.append([f,l])\n",
    "            if num in batch_splits or num == features.shape[0]:\n",
    "                x = []\n",
    "                y = []\n",
    "                for i in batch:\n",
    "                    x.append(i[0])\n",
    "                    y.append(i[1])\n",
    "                x = np.array(x)\n",
    "                y = np.array(y)\n",
    "                batches.append([x,y])\n",
    "                batch = []\n",
    "            num += 1\n",
    "        return batches\n",
    "  \n",
    "    def train(self, epochs, learning_rate, batch_size):\n",
    "        self.learning_rate = learning_rate\n",
    "        self.features = self.IN\n",
    "        self.labels = self.y\n",
    "        for n, epoch in enumerate(range(epochs)):\n",
    "            batches = self.batch_splitter(self.features,self.labels,batch_size)\n",
    "            losses = []\n",
    "            for batch in batches:\n",
    "                self.IN = batch[0]\n",
    "                self.y = batch[1]\n",
    "                self.feed_forward()\n",
    "                self.back_propagate()\n",
    "                loss = cross_entropy_loss(self.y, self.output)\n",
    "                losses.append(loss)\n",
    "            print(f'Epoch {n+1}. Average batch cross entropy : ',sum(losses)/len(batches))\n",
    "\n",
    "    def predict(self,X_test):\n",
    "        self.IN = X_test\n",
    "        self.feed_forward()\n",
    "        return self.output"
   ]
  },
  {
   "cell_type": "code",
   "execution_count": 23,
   "metadata": {
    "id": "OJwPKpUnT-KG"
   },
   "outputs": [],
   "source": [
    "model = NeuralNetwork(X_train,y_train)"
   ]
  },
  {
   "cell_type": "code",
   "execution_count": 24,
   "metadata": {
    "colab": {
     "base_uri": "https://localhost:8080/"
    },
    "id": "k0TbGEZ2nMu9",
    "outputId": "2f81ef04-9d97-4ebe-a8f8-a327195f8f64"
   },
   "outputs": [
    {
     "name": "stdout",
     "output_type": "stream",
     "text": [
      "Epoch 1. Average batch cross entropy :  0.8182832251460184\n",
      "Epoch 2. Average batch cross entropy :  0.7083899213618844\n",
      "Epoch 3. Average batch cross entropy :  0.9787256448856935\n",
      "Epoch 4. Average batch cross entropy :  0.7373649733232396\n",
      "Epoch 5. Average batch cross entropy :  0.9381416821727196\n",
      "Epoch 6. Average batch cross entropy :  0.7210441687797075\n",
      "Epoch 7. Average batch cross entropy :  1.0176664758669431\n",
      "Epoch 8. Average batch cross entropy :  0.9468841778613921\n",
      "Epoch 9. Average batch cross entropy :  0.7531431716214533\n",
      "Epoch 10. Average batch cross entropy :  0.8289749374792598\n",
      "Epoch 11. Average batch cross entropy :  0.6988850990340475\n",
      "Epoch 12. Average batch cross entropy :  0.7110392407391087\n",
      "Epoch 13. Average batch cross entropy :  0.7802628304260274\n",
      "Epoch 14. Average batch cross entropy :  0.7638755579260897\n",
      "Epoch 15. Average batch cross entropy :  0.9841586737385329\n",
      "Epoch 16. Average batch cross entropy :  1.0135174568502736\n",
      "Epoch 17. Average batch cross entropy :  1.0693067804459988\n",
      "Epoch 18. Average batch cross entropy :  0.8135315819520873\n",
      "Epoch 19. Average batch cross entropy :  1.1103229113932531\n",
      "Epoch 20. Average batch cross entropy :  0.8973329812215733\n",
      "Epoch 21. Average batch cross entropy :  0.7743536095826461\n",
      "Epoch 22. Average batch cross entropy :  0.7749004427900448\n",
      "Epoch 23. Average batch cross entropy :  1.0487659238570801\n",
      "Epoch 24. Average batch cross entropy :  0.8541005554354228\n",
      "Epoch 25. Average batch cross entropy :  0.8235656982951153\n",
      "Epoch 26. Average batch cross entropy :  0.6980499838614787\n",
      "Epoch 27. Average batch cross entropy :  0.7017596085447325\n",
      "Epoch 28. Average batch cross entropy :  0.8113039494762466\n",
      "Epoch 29. Average batch cross entropy :  1.2011064984465498\n",
      "Epoch 30. Average batch cross entropy :  0.7044109385705202\n",
      "Epoch 31. Average batch cross entropy :  0.8723975197348658\n",
      "Epoch 32. Average batch cross entropy :  0.7466047245985118\n",
      "Epoch 33. Average batch cross entropy :  0.824380505270777\n",
      "Epoch 34. Average batch cross entropy :  0.8063575181578791\n",
      "Epoch 35. Average batch cross entropy :  0.7072548987063421\n",
      "Epoch 36. Average batch cross entropy :  0.6878990139610388\n",
      "Epoch 37. Average batch cross entropy :  0.7152900455208989\n",
      "Epoch 38. Average batch cross entropy :  0.7464820974511691\n",
      "Epoch 39. Average batch cross entropy :  0.7000025748814117\n",
      "Epoch 40. Average batch cross entropy :  0.7965169333163872\n",
      "Epoch 41. Average batch cross entropy :  0.9796834576504088\n",
      "Epoch 42. Average batch cross entropy :  0.8380722141567505\n",
      "Epoch 43. Average batch cross entropy :  0.8525957719924748\n",
      "Epoch 44. Average batch cross entropy :  0.7024572128555353\n",
      "Epoch 45. Average batch cross entropy :  0.7684035369694996\n",
      "Epoch 46. Average batch cross entropy :  0.6847118390713517\n",
      "Epoch 47. Average batch cross entropy :  0.6698491028738833\n",
      "Epoch 48. Average batch cross entropy :  0.9142533076848259\n",
      "Epoch 49. Average batch cross entropy :  0.8464770648479286\n",
      "Epoch 50. Average batch cross entropy :  0.9378871849205486\n",
      "Epoch 51. Average batch cross entropy :  0.7073548328848979\n",
      "Epoch 52. Average batch cross entropy :  0.7499026052117642\n",
      "Epoch 53. Average batch cross entropy :  0.6199131320023262\n",
      "Epoch 54. Average batch cross entropy :  0.870060478901398\n",
      "Epoch 55. Average batch cross entropy :  0.5545408088135916\n",
      "Epoch 56. Average batch cross entropy :  0.7282537852802916\n",
      "Epoch 57. Average batch cross entropy :  0.591028522973094\n",
      "Epoch 58. Average batch cross entropy :  0.7954493085356841\n",
      "Epoch 59. Average batch cross entropy :  0.5569138420309585\n",
      "Epoch 60. Average batch cross entropy :  0.48596414524777226\n",
      "Epoch 61. Average batch cross entropy :  0.6118824613166599\n",
      "Epoch 62. Average batch cross entropy :  0.5153594218418531\n",
      "Epoch 63. Average batch cross entropy :  0.5261458933224107\n",
      "Epoch 64. Average batch cross entropy :  0.6568074751972505\n",
      "Epoch 65. Average batch cross entropy :  0.576457723514257\n",
      "Epoch 66. Average batch cross entropy :  0.4287131234306636\n",
      "Epoch 67. Average batch cross entropy :  0.5106157755930697\n",
      "Epoch 68. Average batch cross entropy :  0.47579878370479517\n",
      "Epoch 69. Average batch cross entropy :  0.4523402848733886\n",
      "Epoch 70. Average batch cross entropy :  0.3959326039870765\n",
      "Epoch 71. Average batch cross entropy :  0.4001818449538384\n",
      "Epoch 72. Average batch cross entropy :  0.513918298622093\n",
      "Epoch 73. Average batch cross entropy :  0.40616251888255106\n",
      "Epoch 74. Average batch cross entropy :  0.4552313682644687\n",
      "Epoch 75. Average batch cross entropy :  0.4453867095093667\n",
      "Epoch 76. Average batch cross entropy :  0.3949189547530694\n",
      "Epoch 77. Average batch cross entropy :  0.3833920673231732\n",
      "Epoch 78. Average batch cross entropy :  0.46602481797610656\n",
      "Epoch 79. Average batch cross entropy :  0.4023445510947361\n",
      "Epoch 80. Average batch cross entropy :  0.5203335872024852\n",
      "Epoch 81. Average batch cross entropy :  0.40557849133840645\n",
      "Epoch 82. Average batch cross entropy :  0.3885912067846447\n",
      "Epoch 83. Average batch cross entropy :  0.4341604300037896\n",
      "Epoch 84. Average batch cross entropy :  0.3608970231741171\n",
      "Epoch 85. Average batch cross entropy :  0.40258298029820666\n",
      "Epoch 86. Average batch cross entropy :  0.38478221126922235\n",
      "Epoch 87. Average batch cross entropy :  0.4184206274199774\n",
      "Epoch 88. Average batch cross entropy :  0.40236116099813507\n",
      "Epoch 89. Average batch cross entropy :  0.4175101123211939\n",
      "Epoch 90. Average batch cross entropy :  0.3994616778716072\n",
      "Epoch 91. Average batch cross entropy :  0.3673064904910814\n",
      "Epoch 92. Average batch cross entropy :  0.39245028033723867\n",
      "Epoch 93. Average batch cross entropy :  0.3841522826275279\n",
      "Epoch 94. Average batch cross entropy :  0.4323201210065725\n",
      "Epoch 95. Average batch cross entropy :  0.3680910460885329\n",
      "Epoch 96. Average batch cross entropy :  0.33772011460672274\n",
      "Epoch 97. Average batch cross entropy :  0.35412345217082564\n",
      "Epoch 98. Average batch cross entropy :  0.40010729844104653\n",
      "Epoch 99. Average batch cross entropy :  0.4556393809077208\n",
      "Epoch 100. Average batch cross entropy :  0.36735633643146653\n"
     ]
    }
   ],
   "source": [
    "#We are using 100 epochs to train the model. This number appears reasonable, as we should choose the number of epochs \n",
    "#in such way that the cross entropy stops decreasing significantly after a certain epoch. When the decrease in cross entropy becomes very\n",
    "#small, it indicates that we should stop training the model.\n",
    "#Using a batch size of 37 appears an optimal choice as it splits the data into 6 equal batches.\n",
    "model.train(epochs=100,learning_rate=0.05,batch_size=37)"
   ]
  },
  {
   "cell_type": "code",
   "execution_count": 25,
   "metadata": {
    "id": "CKrbKzuynUuW"
   },
   "outputs": [],
   "source": [
    "y_pred = np.round(model.predict(X_test))"
   ]
  },
  {
   "cell_type": "code",
   "execution_count": 26,
   "metadata": {
    "id": "dq_3zztxsOg5"
   },
   "outputs": [],
   "source": [
    "from sklearn.metrics import accuracy_score"
   ]
  },
  {
   "cell_type": "code",
   "execution_count": 27,
   "metadata": {
    "colab": {
     "base_uri": "https://localhost:8080/"
    },
    "id": "_K_TamShsRbv",
    "outputId": "b7ce6bad-2704-4fde-9047-c80d2fc550ea"
   },
   "outputs": [
    {
     "data": {
      "text/plain": [
       "0.8571428571428571"
      ]
     },
     "execution_count": 27,
     "metadata": {},
     "output_type": "execute_result"
    }
   ],
   "source": [
    "accuracy_score(y_test,y_pred)"
   ]
  },
  {
   "cell_type": "code",
   "execution_count": 28,
   "metadata": {
    "id": "tmJ3g0bgs0h9"
   },
   "outputs": [],
   "source": [
    "from sklearn.metrics import confusion_matrix, classification_report"
   ]
  },
  {
   "cell_type": "code",
   "execution_count": 29,
   "metadata": {
    "colab": {
     "base_uri": "https://localhost:8080/"
    },
    "id": "6rtnStRPx9nE",
    "outputId": "994aa0d5-fc85-4c7d-ab21-a642d6f5aa8e"
   },
   "outputs": [
    {
     "name": "stdout",
     "output_type": "stream",
     "text": [
      "[[20  5]\n",
      " [ 3 28]]\n"
     ]
    }
   ],
   "source": [
    "print(confusion_matrix(y_test,y_pred))"
   ]
  },
  {
   "cell_type": "code",
   "execution_count": 30,
   "metadata": {
    "colab": {
     "base_uri": "https://localhost:8080/"
    },
    "id": "K2i8clrSyA9L",
    "outputId": "9b926e30-0268-4e67-c807-04fdc857b15c"
   },
   "outputs": [
    {
     "name": "stdout",
     "output_type": "stream",
     "text": [
      "              precision    recall  f1-score   support\n",
      "\n",
      "           0       0.87      0.80      0.83        25\n",
      "           1       0.85      0.90      0.88        31\n",
      "\n",
      "    accuracy                           0.86        56\n",
      "   macro avg       0.86      0.85      0.85        56\n",
      "weighted avg       0.86      0.86      0.86        56\n",
      "\n"
     ]
    }
   ],
   "source": [
    "#We have achieved excellent results\n",
    "print(classification_report(y_test,y_pred))"
   ]
  },
  {
   "cell_type": "markdown",
   "metadata": {
    "id": "zv9nlVqi7bKk"
   },
   "source": [
    "# Using Pytorch on the same dataset and building the same Neural Network"
   ]
  },
  {
   "cell_type": "code",
   "execution_count": 31,
   "metadata": {
    "id": "j_r4teLF7i7p"
   },
   "outputs": [],
   "source": [
    "import torch\n",
    "import torch.nn as nn\n",
    "import torch.nn.functional as F\n",
    "import torch.optim as optim\n",
    "from torch.utils.data import TensorDataset,DataLoader"
   ]
  },
  {
   "cell_type": "code",
   "execution_count": 32,
   "metadata": {
    "colab": {
     "base_uri": "https://localhost:8080/"
    },
    "id": "Ezn9Qz0L8Hqd",
    "outputId": "3551f4c6-5af1-481e-b549-0f2d27d34ba4"
   },
   "outputs": [
    {
     "name": "stdout",
     "output_type": "stream",
     "text": [
      "(222, 13)\n",
      "(56, 13)\n",
      "(222,)\n",
      "(56,)\n"
     ]
    }
   ],
   "source": [
    "y_train = y_train.flatten()\n",
    "y_test = y_test.flatten()\n",
    "print(X_train.shape)\n",
    "print(X_test.shape)\n",
    "print(y_train.shape)\n",
    "print(y_test.shape)"
   ]
  },
  {
   "cell_type": "code",
   "execution_count": 83,
   "metadata": {
    "colab": {
     "base_uri": "https://localhost:8080/",
     "height": 52
    },
    "id": "BjT_8Lf18hY7",
    "outputId": "81739a54-22e2-4e0c-c196-b6c85e8bbe02"
   },
   "outputs": [
    {
     "data": {
      "application/vnd.google.colaboratory.intrinsic+json": {
       "type": "string"
      },
      "text/plain": [
       "'X_train = torch.from_numpy(X_train).float()\\nX_test = torch.from_numpy(X_test).float()\\ny_train = torch.from_numpy(y_train).float()\\ny_test = torch.from_numpy(y_test).float()'"
      ]
     },
     "execution_count": 83,
     "metadata": {},
     "output_type": "execute_result"
    }
   ],
   "source": [
    "#Converting numpy arrays to torch tensors\n",
    "X_train = torch.from_numpy(X_train).float()\n",
    "X_test = torch.from_numpy(X_test).float()\n",
    "y_train = torch.from_numpy(y_train).float()\n",
    "y_test = torch.from_numpy(y_test).float()"
   ]
  },
  {
   "cell_type": "code",
   "execution_count": 111,
   "metadata": {
    "id": "9sMWadDK84K9"
   },
   "outputs": [],
   "source": [
    "#Creating a tensor dataset\n",
    "train_dataset = TensorDataset(X_train,y_train)\n",
    "test_dataset = TensorDataset(X_test,y_test)"
   ]
  },
  {
   "cell_type": "code",
   "execution_count": 120,
   "metadata": {
    "id": "ursgiLm09B-i"
   },
   "outputs": [],
   "source": [
    "#Creating dataloader\n",
    "train_loader = DataLoader(train_dataset,batch_size=37,shuffle=True)\n",
    "test_loader = DataLoader(test_dataset,shuffle=True)"
   ]
  },
  {
   "cell_type": "code",
   "execution_count": 121,
   "metadata": {
    "id": "kWfp-Qij9WS_"
   },
   "outputs": [],
   "source": [
    "class Model(nn.Module):\n",
    "    def __init__(self):\n",
    "        super(Model,self).__init__()\n",
    "        \n",
    "        self.fc1 = nn.Linear(13,6)\n",
    "        self.fc2 = nn.Linear(6,4)\n",
    "        self.out = nn.Linear(4,1)\n",
    "\n",
    "    def forward(self,X):\n",
    "        X = F.relu(self.fc1(X))\n",
    "        X = F.sigmoid(self.fc2(X))\n",
    "        X = self.out(X)\n",
    "        return X"
   ]
  },
  {
   "cell_type": "code",
   "execution_count": 122,
   "metadata": {
    "id": "iBsCr76g_xN0"
   },
   "outputs": [],
   "source": [
    "model = Model()"
   ]
  },
  {
   "cell_type": "code",
   "execution_count": 123,
   "metadata": {
    "id": "X7EIWNNw_0Q3"
   },
   "outputs": [],
   "source": [
    "#defining parametres\n",
    "num_epochs = 100\n",
    "lr_rate = 0.01\n",
    "criterion = nn.CrossEntropyLoss()\n",
    "optimizer = optim.SGD(model.parameters(),lr=lr_rate)"
   ]
  },
  {
   "cell_type": "code",
   "execution_count": 124,
   "metadata": {
    "id": "Rk5ie3WIAOyB"
   },
   "outputs": [],
   "source": [
    "# creating a supporting function\n",
    "def binary_acc(y_pred,y_test):\n",
    "    y_pred_tag = torch.round(torch.sigmoid(y_pred))\n",
    "    correct_results_sum = (y_pred_tag==y_test).sum().float()\n",
    "    acc = correct_results_sum/y_test.shape[0]\n",
    "    acc = torch.round(acc*100)\n",
    "    return acc"
   ]
  },
  {
   "cell_type": "code",
   "execution_count": 125,
   "metadata": {
    "colab": {
     "base_uri": "https://localhost:8080/"
    },
    "id": "_OaLgXwyCU4a",
    "outputId": "87f7dfba-99a6-47a7-f602-8b6c100cf9ce"
   },
   "outputs": [
    {
     "name": "stderr",
     "output_type": "stream",
     "text": [
      "/usr/local/lib/python3.9/dist-packages/torch/nn/functional.py:1967: UserWarning: nn.functional.sigmoid is deprecated. Use torch.sigmoid instead.\n",
      "  warnings.warn(\"nn.functional.sigmoid is deprecated. Use torch.sigmoid instead.\")\n"
     ]
    },
    {
     "name": "stdout",
     "output_type": "stream",
     "text": [
      "Epoch: 001: |Loss:75.93768|Acc: 56.333\n",
      "Epoch: 002: |Loss:75.91852|Acc: 56.167\n",
      "Epoch: 003: |Loss:75.89942|Acc: 56.333\n",
      "Epoch: 004: |Loss:75.88985|Acc: 55.500\n",
      "Epoch: 005: |Loss:75.87296|Acc: 56.333\n",
      "Epoch: 006: |Loss:75.86681|Acc: 56.167\n",
      "Epoch: 007: |Loss:75.85321|Acc: 56.500\n",
      "Epoch: 008: |Loss:75.84453|Acc: 55.833\n",
      "Epoch: 009: |Loss:75.83594|Acc: 56.167\n",
      "Epoch: 010: |Loss:75.82619|Acc: 56.333\n",
      "Epoch: 011: |Loss:75.81659|Acc: 57.667\n",
      "Epoch: 012: |Loss:75.80191|Acc: 57.000\n",
      "Epoch: 013: |Loss:75.78972|Acc: 57.667\n",
      "Epoch: 014: |Loss:75.77008|Acc: 59.333\n",
      "Epoch: 015: |Loss:75.75220|Acc: 60.833\n",
      "Epoch: 016: |Loss:75.73521|Acc: 61.167\n",
      "Epoch: 017: |Loss:75.71320|Acc: 62.000\n",
      "Epoch: 018: |Loss:75.69301|Acc: 62.167\n",
      "Epoch: 019: |Loss:75.65697|Acc: 62.500\n",
      "Epoch: 020: |Loss:75.63072|Acc: 63.167\n",
      "Epoch: 021: |Loss:75.59962|Acc: 63.500\n",
      "Epoch: 022: |Loss:75.54852|Acc: 65.000\n",
      "Epoch: 023: |Loss:75.50483|Acc: 66.167\n",
      "Epoch: 024: |Loss:75.43657|Acc: 67.167\n",
      "Epoch: 025: |Loss:75.35862|Acc: 68.000\n",
      "Epoch: 026: |Loss:75.28785|Acc: 70.167\n",
      "Epoch: 027: |Loss:75.15379|Acc: 71.333\n",
      "Epoch: 028: |Loss:75.02387|Acc: 71.833\n",
      "Epoch: 029: |Loss:74.89878|Acc: 71.500\n",
      "Epoch: 030: |Loss:74.70982|Acc: 72.667\n",
      "Epoch: 031: |Loss:74.55316|Acc: 73.333\n",
      "Epoch: 032: |Loss:74.24522|Acc: 73.500\n",
      "Epoch: 033: |Loss:73.99090|Acc: 73.833\n",
      "Epoch: 034: |Loss:73.72279|Acc: 74.333\n",
      "Epoch: 035: |Loss:73.57964|Acc: 75.500\n",
      "Epoch: 036: |Loss:73.20904|Acc: 76.500\n",
      "Epoch: 037: |Loss:73.06193|Acc: 77.167\n",
      "Epoch: 038: |Loss:72.89128|Acc: 77.333\n",
      "Epoch: 039: |Loss:72.71682|Acc: 77.500\n",
      "Epoch: 040: |Loss:72.66390|Acc: 78.000\n",
      "Epoch: 041: |Loss:72.39664|Acc: 79.167\n",
      "Epoch: 042: |Loss:72.23650|Acc: 79.167\n",
      "Epoch: 043: |Loss:72.17832|Acc: 79.667\n",
      "Epoch: 044: |Loss:71.94380|Acc: 79.667\n",
      "Epoch: 045: |Loss:71.80240|Acc: 79.000\n",
      "Epoch: 046: |Loss:71.85065|Acc: 78.167\n",
      "Epoch: 047: |Loss:71.99373|Acc: 78.167\n",
      "Epoch: 048: |Loss:71.61957|Acc: 77.833\n",
      "Epoch: 049: |Loss:71.49999|Acc: 78.000\n",
      "Epoch: 050: |Loss:71.65816|Acc: 77.833\n",
      "Epoch: 051: |Loss:71.56243|Acc: 76.833\n",
      "Epoch: 052: |Loss:71.43040|Acc: 77.000\n",
      "Epoch: 053: |Loss:71.30051|Acc: 76.500\n",
      "Epoch: 054: |Loss:71.36015|Acc: 75.667\n",
      "Epoch: 055: |Loss:71.33366|Acc: 77.167\n",
      "Epoch: 056: |Loss:71.31133|Acc: 77.000\n",
      "Epoch: 057: |Loss:71.11798|Acc: 77.500\n",
      "Epoch: 058: |Loss:71.11138|Acc: 75.500\n",
      "Epoch: 059: |Loss:71.03539|Acc: 76.667\n",
      "Epoch: 060: |Loss:71.07499|Acc: 77.000\n",
      "Epoch: 061: |Loss:71.00809|Acc: 76.833\n",
      "Epoch: 062: |Loss:71.20325|Acc: 77.000\n",
      "Epoch: 063: |Loss:71.28087|Acc: 76.500\n",
      "Epoch: 064: |Loss:70.91704|Acc: 77.000\n",
      "Epoch: 065: |Loss:70.78125|Acc: 77.000\n",
      "Epoch: 066: |Loss:70.70564|Acc: 77.000\n",
      "Epoch: 067: |Loss:70.84565|Acc: 77.000\n",
      "Epoch: 068: |Loss:70.73454|Acc: 76.833\n",
      "Epoch: 069: |Loss:70.71117|Acc: 76.833\n",
      "Epoch: 070: |Loss:70.74852|Acc: 76.833\n",
      "Epoch: 071: |Loss:70.70016|Acc: 77.167\n",
      "Epoch: 072: |Loss:70.71063|Acc: 77.500\n",
      "Epoch: 073: |Loss:70.68037|Acc: 77.333\n",
      "Epoch: 074: |Loss:70.78030|Acc: 77.333\n",
      "Epoch: 075: |Loss:70.53513|Acc: 77.000\n",
      "Epoch: 076: |Loss:70.73116|Acc: 77.333\n",
      "Epoch: 077: |Loss:70.60744|Acc: 77.500\n",
      "Epoch: 078: |Loss:70.68439|Acc: 76.333\n",
      "Epoch: 079: |Loss:70.62912|Acc: 77.167\n",
      "Epoch: 080: |Loss:70.60997|Acc: 76.833\n",
      "Epoch: 081: |Loss:70.58466|Acc: 78.000\n",
      "Epoch: 082: |Loss:70.60115|Acc: 76.000\n",
      "Epoch: 083: |Loss:70.71653|Acc: 77.000\n",
      "Epoch: 084: |Loss:70.59684|Acc: 76.667\n",
      "Epoch: 085: |Loss:70.46057|Acc: 77.167\n",
      "Epoch: 086: |Loss:70.59973|Acc: 77.000\n",
      "Epoch: 087: |Loss:70.64129|Acc: 75.667\n",
      "Epoch: 088: |Loss:70.58163|Acc: 77.000\n",
      "Epoch: 089: |Loss:70.76060|Acc: 76.833\n",
      "Epoch: 090: |Loss:70.45558|Acc: 76.500\n",
      "Epoch: 091: |Loss:70.59519|Acc: 77.167\n",
      "Epoch: 092: |Loss:70.46375|Acc: 77.000\n",
      "Epoch: 093: |Loss:70.44736|Acc: 76.000\n",
      "Epoch: 094: |Loss:70.53061|Acc: 74.167\n",
      "Epoch: 095: |Loss:70.78596|Acc: 75.500\n",
      "Epoch: 096: |Loss:70.34792|Acc: 77.000\n",
      "Epoch: 097: |Loss:70.42246|Acc: 76.667\n",
      "Epoch: 098: |Loss:70.47247|Acc: 77.000\n",
      "Epoch: 099: |Loss:70.36429|Acc: 75.667\n",
      "Epoch: 100: |Loss:70.48878|Acc: 75.000\n"
     ]
    }
   ],
   "source": [
    "#training the model \n",
    "model.train()\n",
    "for e in range(1,num_epochs+1):\n",
    "    epoch_loss = 0\n",
    "    epoch_acc = 0 \n",
    "    for X_batch,y_batch in train_loader:\n",
    "        optimizer.zero_grad()\n",
    "        y_pred = model(X_batch)\n",
    "        \n",
    "        loss = criterion(y_pred.flatten(),y_batch.flatten().float())\n",
    "        acc = binary_acc(y_pred.flatten(),y_batch.flatten().float())\n",
    "        \n",
    "        loss.backward()\n",
    "        optimizer.step()\n",
    "        \n",
    "        epoch_loss += loss.item()\n",
    "        epoch_acc += acc.item()\n",
    "        \n",
    "    print(f'Epoch: {e+0:03}: |Loss:{epoch_loss/len(train_loader):.5f}|Acc: {epoch_acc/len(train_loader):.3f}')"
   ]
  },
  {
   "cell_type": "code",
   "execution_count": 126,
   "metadata": {
    "id": "mUu_Xj_JCszE"
   },
   "outputs": [],
   "source": [
    "#testing the model\n",
    "y_pred_list = []\n",
    "model.eval()\n",
    "with torch.no_grad():\n",
    "    for X_batch, y_batch in test_loader:\n",
    "        torch.no_grad()\n",
    "        y_test_pred = model(X_batch)\n",
    "        y_test_pred = torch.sigmoid(y_test_pred)\n",
    "        y_pred_tag = torch.round(y_test_pred)\n",
    "        y_pred_list.append(y_pred_tag.numpy())\n",
    "\n",
    "y_pred_list = [a.squeeze().tolist() for  a in  y_pred_list]"
   ]
  },
  {
   "cell_type": "code",
   "execution_count": 127,
   "metadata": {
    "colab": {
     "base_uri": "https://localhost:8080/"
    },
    "id": "-UIu4zCODGkW",
    "outputId": "d2029ab3-42c5-4775-ff49-e27d866ed86d"
   },
   "outputs": [
    {
     "data": {
      "text/plain": [
       "0.625"
      ]
     },
     "execution_count": 127,
     "metadata": {},
     "output_type": "execute_result"
    }
   ],
   "source": [
    "accuracy_score(y_test,y_pred_list)"
   ]
  },
  {
   "cell_type": "code",
   "execution_count": 128,
   "metadata": {
    "colab": {
     "base_uri": "https://localhost:8080/"
    },
    "id": "-Ts-b1ZSDNaK",
    "outputId": "b448adb3-a548-41ba-cfdf-70f96e062d24"
   },
   "outputs": [
    {
     "name": "stdout",
     "output_type": "stream",
     "text": [
      "[[10 15]\n",
      " [ 6 25]]\n"
     ]
    }
   ],
   "source": [
    "print(confusion_matrix(y_test,y_pred_list))"
   ]
  },
  {
   "cell_type": "code",
   "execution_count": 129,
   "metadata": {
    "colab": {
     "base_uri": "https://localhost:8080/"
    },
    "id": "w46CyHECDXup",
    "outputId": "53164f4f-54ae-45d1-fd41-b16137218e66"
   },
   "outputs": [
    {
     "name": "stdout",
     "output_type": "stream",
     "text": [
      "              precision    recall  f1-score   support\n",
      "\n",
      "         0.0       0.62      0.40      0.49        25\n",
      "         1.0       0.62      0.81      0.70        31\n",
      "\n",
      "    accuracy                           0.62        56\n",
      "   macro avg       0.62      0.60      0.60        56\n",
      "weighted avg       0.62      0.62      0.61        56\n",
      "\n"
     ]
    }
   ],
   "source": [
    "print(classification_report(y_test,y_pred_list))"
   ]
  },
  {
   "cell_type": "code",
   "execution_count": 69,
   "metadata": {
    "id": "tXDtEfIGTTQb"
   },
   "outputs": [],
   "source": []
  }
 ],
 "metadata": {
  "accelerator": "GPU",
  "colab": {
   "provenance": []
  },
  "gpuClass": "standard",
  "kernelspec": {
   "display_name": "Python 3 (ipykernel)",
   "language": "python",
   "name": "python3"
  },
  "language_info": {
   "codemirror_mode": {
    "name": "ipython",
    "version": 3
   },
   "file_extension": ".py",
   "mimetype": "text/x-python",
   "name": "python",
   "nbconvert_exporter": "python",
   "pygments_lexer": "ipython3",
   "version": "3.9.13"
  }
 },
 "nbformat": 4,
 "nbformat_minor": 1
}
